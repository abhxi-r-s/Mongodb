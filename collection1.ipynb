{
 "cells": [
  {
   "cell_type": "code",
   "execution_count": 16,
   "metadata": {},
   "outputs": [],
   "source": [
    "import pymongo\n",
    "\n",
    "conn = pymongo.MongoClient(\"mongodb://localhost:27017/\")\n",
    "db = conn[\"mydatabase\"]\n",
    "cols = db[\"collection1\"]"
   ]
  },
  {
   "cell_type": "code",
   "execution_count": 35,
   "metadata": {},
   "outputs": [],
   "source": [
    "values = [{\"Name\" : \"Sandra\", \"Age\" : 21, \"Place\" : \"Ernakulam\"}, {\"Name\" : \"Devi\", \"Age\" : 23, \"Place\" : \"Malappuram\"}, {\"Name\" : \"Nazrin\", \"Age\" : 21, \"Place\" : \"Kottayam\"}]"
   ]
  },
  {
   "cell_type": "code",
   "execution_count": 36,
   "metadata": {},
   "outputs": [
    {
     "data": {
      "text/plain": [
       "InsertManyResult([ObjectId('67e2304682b4fb854ad49370'), ObjectId('67e2304682b4fb854ad49371'), ObjectId('67e2304682b4fb854ad49372')], acknowledged=True)"
      ]
     },
     "execution_count": 36,
     "metadata": {},
     "output_type": "execute_result"
    }
   ],
   "source": [
    "cols.insert_many(values)"
   ]
  },
  {
   "cell_type": "code",
   "execution_count": 37,
   "metadata": {},
   "outputs": [],
   "source": [
    "var=cols.find({\"Age\":21})"
   ]
  },
  {
   "cell_type": "code",
   "execution_count": 38,
   "metadata": {},
   "outputs": [
    {
     "name": "stdout",
     "output_type": "stream",
     "text": [
      "{'_id': ObjectId('67e22fe582b4fb854ad4936d'), 'Name': 'Sandra', 'Age': 21, 'Place': 'Ernakulam'}\n",
      "{'_id': ObjectId('67e22fe582b4fb854ad4936f'), 'Name': 'Nazrin', 'Age': 21, 'Place': 'Kottayam'}\n",
      "{'_id': ObjectId('67e2304682b4fb854ad49370'), 'Name': 'Sandra', 'Age': 21, 'Place': 'Ernakulam'}\n",
      "{'_id': ObjectId('67e2304682b4fb854ad49372'), 'Name': 'Nazrin', 'Age': 21, 'Place': 'Kottayam'}\n"
     ]
    }
   ],
   "source": [
    "for i in var:\n",
    "    print(i)"
   ]
  },
  {
   "cell_type": "code",
   "execution_count": 41,
   "metadata": {},
   "outputs": [
    {
     "name": "stdout",
     "output_type": "stream",
     "text": [
      "{'Name': 'Sandra'}\n",
      "{'Name': 'Nazrin'}\n",
      "{'Name': 'Sandra'}\n",
      "{'Name': 'Nazrin'}\n"
     ]
    }
   ],
   "source": [
    "vars=cols.find({\"Age\":21},{\"Name\":2,\"_id\":0})\n",
    "for i in vars:\n",
    "    print(i)"
   ]
  },
  {
   "cell_type": "code",
   "execution_count": 42,
   "metadata": {},
   "outputs": [
    {
     "name": "stdout",
     "output_type": "stream",
     "text": [
      "{'Name': 'Sandra', 'Place': 'Ernakulam'}\n"
     ]
    }
   ],
   "source": [
    "var1=cols.find({\"$and\":[{\"Age\":21},{\"Place\":\"Ernakulam\"}]},{\"Name\":1,\"_id\":0,\"Place\":1})\n",
    "for i in var1:\n",
    "    print(i)"
   ]
  },
  {
   "cell_type": "code",
   "execution_count": 43,
   "metadata": {},
   "outputs": [
    {
     "name": "stdout",
     "output_type": "stream",
     "text": [
      "{'Name': 'Sandra', 'Place': 'Ernakulam'}\n",
      "{'Name': 'Nazrin', 'Place': 'Kottayam'}\n"
     ]
    }
   ],
   "source": [
    "var1=cols.find({\"$or\":[{\"Age\":21},{\"Place\":\"Ernakulam\"}]},{\"Name\":1,\"_id\":0,\"Place\":1})\n",
    "for i in var1:\n",
    "    print(i)"
   ]
  },
  {
   "cell_type": "code",
   "execution_count": 46,
   "metadata": {},
   "outputs": [
    {
     "data": {
      "text/plain": [
       "UpdateResult({'n': 2, 'nModified': 2, 'ok': 1.0, 'updatedExisting': True}, acknowledged=True)"
      ]
     },
     "execution_count": 46,
     "metadata": {},
     "output_type": "execute_result"
    }
   ],
   "source": [
    "cond = {\"Age\":21}\n",
    "newvalue = {\"$set\":{\"Place\":\"Calicut\"}}\n",
    "cols.update_many(cond,newvalue)"
   ]
  },
  {
   "cell_type": "code",
   "execution_count": 47,
   "metadata": {},
   "outputs": [
    {
     "data": {
      "text/plain": [
       "UpdateResult({'n': 1, 'nModified': 1, 'ok': 1.0, 'updatedExisting': True}, acknowledged=True)"
      ]
     },
     "execution_count": 47,
     "metadata": {},
     "output_type": "execute_result"
    }
   ],
   "source": [
    "conds={\"Age\":23}\n",
    "newvalue={\"$set\":{\"Place\":\"Ernakulam\"}}\n",
    "cols.update_many(conds,newvalue)"
   ]
  },
  {
   "cell_type": "code",
   "execution_count": 55,
   "metadata": {},
   "outputs": [
    {
     "data": {
      "text/plain": [
       "InsertManyResult([ObjectId('67e2353482b4fb854ad49376')], acknowledged=True)"
      ]
     },
     "execution_count": 55,
     "metadata": {},
     "output_type": "execute_result"
    }
   ],
   "source": [
    "values =[{\"Name\":\"Shivarama\",\"Age\":48,\"Place\":\"Kanyakumari\"}]\n",
    "cols.insert_many(values)\n"
   ]
  },
  {
   "cell_type": "code",
   "execution_count": null,
   "metadata": {},
   "outputs": [
    {
     "data": {
      "text/plain": [
       "DeleteResult({'n': 2, 'ok': 1.0}, acknowledged=True)"
      ]
     },
     "execution_count": 54,
     "metadata": {},
     "output_type": "execute_result"
    }
   ],
   "source": [
    "cols.delete_many({\"Age\":23})"
   ]
  },
  {
   "cell_type": "code",
   "execution_count": 57,
   "metadata": {},
   "outputs": [
    {
     "name": "stdout",
     "output_type": "stream",
     "text": [
      "{'Name': 'Shivarama', 'Age': 48, 'Place': 'Kanyakumari'}\n"
     ]
    }
   ],
   "source": [
    "var=cols.find({\"Age\":{\"$gt\":30}},{\"_id\":0})\n",
    "for i in var:\n",
    "    print(i)"
   ]
  },
  {
   "cell_type": "code",
   "execution_count": null,
   "metadata": {},
   "outputs": [
    {
     "name": "stdout",
     "output_type": "stream",
     "text": [
      "{'Name': 'Sandra', 'Age': 21, 'Place': 'Calicut'}\n",
      "{'Name': 'Nazrin', 'Age': 21, 'Place': 'Calicut'}\n"
     ]
    }
   ],
   "source": [
    "var=cols.find({\"Age\":{\"$lt\":30}},{\"_id\":0}) #lt for lesser than gt for greater than\n",
    "for i in var:\n",
    "    print(i)"
   ]
  },
  {
   "cell_type": "code",
   "execution_count": 65,
   "metadata": {},
   "outputs": [
    {
     "name": "stdout",
     "output_type": "stream",
     "text": [
      "{'Name': 'Sandra', 'Age': 21, 'Place': 'Calicut'}\n",
      "{'Name': 'Shivarama', 'Age': 48, 'Place': 'Kanyakumari'}\n"
     ]
    }
   ],
   "source": [
    "var=cols.find({\"Name\":{\"$regex\":\"^S\"}},{\"_id\":0})\n",
    "for i in var:\n",
    "    print(i)"
   ]
  },
  {
   "cell_type": "code",
   "execution_count": 67,
   "metadata": {},
   "outputs": [
    {
     "name": "stdout",
     "output_type": "stream",
     "text": [
      "{'Name': 'Sandra', 'Age': 21, 'Place': 'Calicut'}\n",
      "{'Name': 'Shivarama', 'Age': 48, 'Place': 'Kanyakumari'}\n"
     ]
    }
   ],
   "source": [
    "var=cols.find({\"Name\":{\"$regex\":\"a$\"}},{\"_id\":0})\n",
    "for i in var:\n",
    "    print(i)"
   ]
  }
 ],
 "metadata": {
  "kernelspec": {
   "display_name": "Python 3",
   "language": "python",
   "name": "python3"
  },
  "language_info": {
   "codemirror_mode": {
    "name": "ipython",
    "version": 3
   },
   "file_extension": ".py",
   "mimetype": "text/x-python",
   "name": "python",
   "nbconvert_exporter": "python",
   "pygments_lexer": "ipython3",
   "version": "3.12.2"
  }
 },
 "nbformat": 4,
 "nbformat_minor": 2
}
