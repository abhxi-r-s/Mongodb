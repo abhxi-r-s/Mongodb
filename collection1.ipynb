{
 "cells": [
  {
   "cell_type": "markdown",
   "metadata": {},
   "source": [
    "# Create Database & Collection and insert values to the Collection"
   ]
  },
  {
   "cell_type": "markdown",
   "metadata": {},
   "source": [
    "### Connecting Mongodb"
   ]
  },
  {
   "cell_type": "code",
   "execution_count": 5,
   "metadata": {},
   "outputs": [],
   "source": [
    "import pymongo\n",
    "\n",
    "conn = pymongo.MongoClient(\"mongodb://localhost:27017/\")\n",
    "db = conn[\"mydatabase\"]\n",
    "cols = db[\"collection1\"]"
   ]
  },
  {
   "cell_type": "markdown",
   "metadata": {},
   "source": [
    "### Inserting Values"
   ]
  },
  {
   "cell_type": "code",
   "execution_count": 30,
   "metadata": {},
   "outputs": [],
   "source": [
    "values = [\n",
    "    {\"Name\": \"Ethan Johnson\", \"Age\": 21, \"Place\": \"Los Angeles\"},\n",
    "    {\"Name\": \"Ava Martinez\", \"Age\": 24, \"Place\": \"Chicago\"},\n",
    "    {\"Name\": \"Mason Wilson\", \"Age\": 21, \"Place\": \"Houston\"},\n",
    "    {\"Name\": \"Isabella Taylor\", \"Age\": 23, \"Place\": \"Los Angeles\"},\n",
    "    {\"Name\": \"James Harris\", \"Age\": 26, \"Place\": \"Miami\"},\n",
    "    {\"Name\": \"Emma Watson\", \"Age\": 21, \"Place\": \"Chicago\"},\n",
    "    {\"Name\": \"Liam Anderson\", \"Age\": 30, \"Place\": \"San Francisco\"},\n",
    "    {\"Name\": \"Olivia Brown\", \"Age\": 21, \"Place\": \"Toronto\"},\n",
    "    {\"Name\": \"Noah Smith\", \"Age\": 27, \"Place\": \"Houston\"},\n",
    "    {\"Name\": \"Sophia Davis\", \"Age\": 21, \"Place\": \"Berlin\"},\n",
    "]\n"
   ]
  },
  {
   "cell_type": "code",
   "execution_count": 31,
   "metadata": {},
   "outputs": [
    {
     "data": {
      "text/plain": [
       "InsertManyResult([ObjectId('67ebad7875055e79d7d1e393'), ObjectId('67ebad7875055e79d7d1e394'), ObjectId('67ebad7875055e79d7d1e395'), ObjectId('67ebad7875055e79d7d1e396'), ObjectId('67ebad7875055e79d7d1e397'), ObjectId('67ebad7875055e79d7d1e398'), ObjectId('67ebad7875055e79d7d1e399'), ObjectId('67ebad7875055e79d7d1e39a'), ObjectId('67ebad7875055e79d7d1e39b'), ObjectId('67ebad7875055e79d7d1e39c')], acknowledged=True)"
      ]
     },
     "execution_count": 31,
     "metadata": {},
     "output_type": "execute_result"
    }
   ],
   "source": [
    "cols.insert_many(values)"
   ]
  },
  {
   "cell_type": "markdown",
   "metadata": {},
   "source": [
    "### Displaying Details of Students with age 21"
   ]
  },
  {
   "cell_type": "code",
   "execution_count": 32,
   "metadata": {},
   "outputs": [
    {
     "name": "stdout",
     "output_type": "stream",
     "text": [
      "{'Name': 'Ethan Johnson', 'Age': 21, 'Place': 'Los Angeles'}\n",
      "{'Name': 'Mason Wilson', 'Age': 21, 'Place': 'Houston'}\n",
      "{'Name': 'Emma Watson', 'Age': 21, 'Place': 'Chicago'}\n",
      "{'Name': 'Olivia Brown', 'Age': 21, 'Place': 'Toronto'}\n",
      "{'Name': 'Sophia Davis', 'Age': 21, 'Place': 'Berlin'}\n"
     ]
    }
   ],
   "source": [
    "var=cols.find({\"Age\":21},{\"_id\":0})\n",
    "for i in var:\n",
    "    print(i)"
   ]
  },
  {
   "cell_type": "markdown",
   "metadata": {},
   "source": [
    "### Displaying Name of the Students with Age 21"
   ]
  },
  {
   "cell_type": "code",
   "execution_count": 33,
   "metadata": {},
   "outputs": [
    {
     "name": "stdout",
     "output_type": "stream",
     "text": [
      "{'Name': 'Ethan Johnson'}\n",
      "{'Name': 'Mason Wilson'}\n",
      "{'Name': 'Emma Watson'}\n",
      "{'Name': 'Olivia Brown'}\n",
      "{'Name': 'Sophia Davis'}\n"
     ]
    }
   ],
   "source": [
    "vars=cols.find({\"Age\":21},{\"Name\":2,\"_id\":0})\n",
    "for i in vars:\n",
    "    print(i)"
   ]
  },
  {
   "cell_type": "markdown",
   "metadata": {},
   "source": [
    "### Displaying Details of Students with Age 21 and Place Chicago"
   ]
  },
  {
   "cell_type": "code",
   "execution_count": 36,
   "metadata": {},
   "outputs": [
    {
     "name": "stdout",
     "output_type": "stream",
     "text": [
      "{'Name': 'Emma Watson', 'Age': 21, 'Place': 'Chicago'}\n"
     ]
    }
   ],
   "source": [
    "var1=cols.find({\"$and\":[{\"Age\":21},{\"Place\":\"Chicago\"}]},{\"_id\":0,})\n",
    "for i in var1:\n",
    "    print(i)"
   ]
  },
  {
   "cell_type": "markdown",
   "metadata": {},
   "source": [
    "### Displaying Details of Students with Age 21 or Place Chicago"
   ]
  },
  {
   "cell_type": "code",
   "execution_count": 38,
   "metadata": {},
   "outputs": [
    {
     "name": "stdout",
     "output_type": "stream",
     "text": [
      "{'Name': 'Ethan Johnson', 'Age': 21, 'Place': 'Los Angeles'}\n",
      "{'Name': 'Ava Martinez', 'Age': 24, 'Place': 'Chicago'}\n",
      "{'Name': 'Mason Wilson', 'Age': 21, 'Place': 'Houston'}\n",
      "{'Name': 'Emma Watson', 'Age': 21, 'Place': 'Chicago'}\n",
      "{'Name': 'Olivia Brown', 'Age': 21, 'Place': 'Toronto'}\n",
      "{'Name': 'Sophia Davis', 'Age': 21, 'Place': 'Berlin'}\n"
     ]
    }
   ],
   "source": [
    "var1=cols.find({\"$or\":[{\"Age\":21},{\"Place\":\"Chicago\"}]},{\"_id\":0,})\n",
    "for i in var1:\n",
    "    print(i)"
   ]
  },
  {
   "cell_type": "markdown",
   "metadata": {},
   "source": [
    "### Updating Place to New York of the Students With Age 21 "
   ]
  },
  {
   "cell_type": "code",
   "execution_count": 39,
   "metadata": {},
   "outputs": [
    {
     "data": {
      "text/plain": [
       "UpdateResult({'n': 5, 'nModified': 5, 'ok': 1.0, 'updatedExisting': True}, acknowledged=True)"
      ]
     },
     "execution_count": 39,
     "metadata": {},
     "output_type": "execute_result"
    }
   ],
   "source": [
    "cond = {\"Age\":21}\n",
    "newvalue = {\"$set\":{\"Place\":\"New York\"}}\n",
    "cols.update_many(cond,newvalue)"
   ]
  },
  {
   "cell_type": "markdown",
   "metadata": {},
   "source": [
    "### Updating Place to Berlin of the Students With Age 23 "
   ]
  },
  {
   "cell_type": "code",
   "execution_count": 40,
   "metadata": {},
   "outputs": [
    {
     "data": {
      "text/plain": [
       "UpdateResult({'n': 1, 'nModified': 1, 'ok': 1.0, 'updatedExisting': True}, acknowledged=True)"
      ]
     },
     "execution_count": 40,
     "metadata": {},
     "output_type": "execute_result"
    }
   ],
   "source": [
    "conds={\"Age\":23}\n",
    "newvalue={\"$set\":{\"Place\":\"Berlin\"}}\n",
    "cols.update_many(conds,newvalue)"
   ]
  },
  {
   "cell_type": "markdown",
   "metadata": {},
   "source": [
    "### Inserting A new Value"
   ]
  },
  {
   "cell_type": "code",
   "execution_count": 41,
   "metadata": {},
   "outputs": [
    {
     "data": {
      "text/plain": [
       "InsertManyResult([ObjectId('67ebae8975055e79d7d1e39d')], acknowledged=True)"
      ]
     },
     "execution_count": 41,
     "metadata": {},
     "output_type": "execute_result"
    }
   ],
   "source": [
    "values =[{\"Name\":\"Simon\",\"Age\":25,\"Place\":\"Paris\"}]\n",
    "cols.insert_many(values)\n"
   ]
  },
  {
   "cell_type": "markdown",
   "metadata": {},
   "source": [
    "### Deleting Students with Age 23"
   ]
  },
  {
   "cell_type": "code",
   "execution_count": 42,
   "metadata": {},
   "outputs": [
    {
     "data": {
      "text/plain": [
       "DeleteResult({'n': 1, 'ok': 1.0}, acknowledged=True)"
      ]
     },
     "execution_count": 42,
     "metadata": {},
     "output_type": "execute_result"
    }
   ],
   "source": [
    "cols.delete_many({\"Age\":23})"
   ]
  },
  {
   "cell_type": "markdown",
   "metadata": {},
   "source": [
    "### Displaying Details of Students with Age is greater than 25"
   ]
  },
  {
   "cell_type": "code",
   "execution_count": 44,
   "metadata": {},
   "outputs": [
    {
     "name": "stdout",
     "output_type": "stream",
     "text": [
      "{'Name': 'James Harris', 'Age': 26, 'Place': 'Miami'}\n",
      "{'Name': 'Liam Anderson', 'Age': 30, 'Place': 'San Francisco'}\n",
      "{'Name': 'Noah Smith', 'Age': 27, 'Place': 'Houston'}\n"
     ]
    }
   ],
   "source": [
    "var=cols.find({\"Age\":{\"$gt\":25}},{\"_id\":0})\n",
    "for i in var:\n",
    "    print(i)"
   ]
  },
  {
   "cell_type": "markdown",
   "metadata": {},
   "source": [
    "### Displaying Details of Students with Age is Less than 25"
   ]
  },
  {
   "cell_type": "code",
   "execution_count": 49,
   "metadata": {},
   "outputs": [
    {
     "name": "stdout",
     "output_type": "stream",
     "text": [
      "{'Name': 'Ethan Johnson', 'Age': 21, 'Place': 'New York'}\n",
      "{'Name': 'Ava Martinez', 'Age': 24, 'Place': 'Chicago'}\n",
      "{'Name': 'Mason Wilson', 'Age': 21, 'Place': 'New York'}\n",
      "{'Name': 'Emma Watson', 'Age': 21, 'Place': 'New York'}\n",
      "{'Name': 'Olivia Brown', 'Age': 21, 'Place': 'New York'}\n",
      "{'Name': 'Sophia Davis', 'Age': 21, 'Place': 'New York'}\n"
     ]
    }
   ],
   "source": [
    "var=cols.find({\"Age\":{\"$lt\":25}},{\"_id\":0}) \n",
    "for i in var:\n",
    "    print(i)"
   ]
  },
  {
   "cell_type": "markdown",
   "metadata": {},
   "source": [
    "### Displaying Students with name Starting with S"
   ]
  },
  {
   "cell_type": "code",
   "execution_count": 46,
   "metadata": {},
   "outputs": [
    {
     "name": "stdout",
     "output_type": "stream",
     "text": [
      "{'Name': 'Sophia Davis', 'Age': 21, 'Place': 'New York'}\n",
      "{'Name': 'Simon', 'Age': 25, 'Place': 'Paris'}\n"
     ]
    }
   ],
   "source": [
    "var=cols.find({\"Name\":{\"$regex\":\"^S\"}},{\"_id\":0})\n",
    "for i in var:\n",
    "    print(i)"
   ]
  },
  {
   "cell_type": "markdown",
   "metadata": {},
   "source": [
    "### 7. Displaying Students with name Ends with n"
   ]
  },
  {
   "cell_type": "code",
   "execution_count": 48,
   "metadata": {},
   "outputs": [
    {
     "name": "stdout",
     "output_type": "stream",
     "text": [
      "{'Name': 'Ethan Johnson', 'Age': 21, 'Place': 'New York'}\n",
      "{'Name': 'Mason Wilson', 'Age': 21, 'Place': 'New York'}\n",
      "{'Name': 'Emma Watson', 'Age': 21, 'Place': 'New York'}\n",
      "{'Name': 'Liam Anderson', 'Age': 30, 'Place': 'San Francisco'}\n",
      "{'Name': 'Olivia Brown', 'Age': 21, 'Place': 'New York'}\n",
      "{'Name': 'Simon', 'Age': 25, 'Place': 'Paris'}\n"
     ]
    }
   ],
   "source": [
    "var=cols.find({\"Name\":{\"$regex\":\"n$\"}},{\"_id\":0})\n",
    "for i in var:\n",
    "    print(i)"
   ]
  }
 ],
 "metadata": {
  "kernelspec": {
   "display_name": "Python 3",
   "language": "python",
   "name": "python3"
  },
  "language_info": {
   "codemirror_mode": {
    "name": "ipython",
    "version": 3
   },
   "file_extension": ".py",
   "mimetype": "text/x-python",
   "name": "python",
   "nbconvert_exporter": "python",
   "pygments_lexer": "ipython3",
   "version": "3.12.2"
  }
 },
 "nbformat": 4,
 "nbformat_minor": 2
}
