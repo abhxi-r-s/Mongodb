{
 "cells": [
  {
   "cell_type": "markdown",
   "metadata": {},
   "source": [
    "# Create Database & Collection and insert values to the Collection"
   ]
  },
  {
   "cell_type": "markdown",
   "metadata": {},
   "source": [
    "### Connecting Mongodb"
   ]
  },
  {
   "cell_type": "code",
   "execution_count": 5,
   "metadata": {},
   "outputs": [],
   "source": [
    "import pymongo\n",
    "\n",
    "conn = pymongo.MongoClient(\"mongodb://localhost:27017/\")\n",
    "db = conn[\"mydatabase\"]\n",
    "cols = db[\"collection1\"]"
   ]
  },
  {
   "cell_type": "markdown",
   "metadata": {},
   "source": [
    "### Inserting Values"
   ]
  },
  {
   "cell_type": "code",
   "execution_count": 6,
   "metadata": {},
   "outputs": [],
   "source": [
    "values = [{\"Name\" : \"Sandra\", \"Age\" : 21, \"Place\" : \"Ernakulam\"}, {\"Name\" : \"Devi\", \"Age\" : 23, \"Place\" : \"Malappuram\"}, {\"Name\" : \"Nazrin\", \"Age\" : 21, \"Place\" : \"Kottayam\"}]"
   ]
  },
  {
   "cell_type": "code",
   "execution_count": 7,
   "metadata": {},
   "outputs": [
    {
     "data": {
      "text/plain": [
       "InsertManyResult([ObjectId('67eb9ffa75055e79d7d1e371'), ObjectId('67eb9ffa75055e79d7d1e372'), ObjectId('67eb9ffa75055e79d7d1e373')], acknowledged=True)"
      ]
     },
     "execution_count": 7,
     "metadata": {},
     "output_type": "execute_result"
    }
   ],
   "source": [
    "cols.insert_many(values)"
   ]
  },
  {
   "cell_type": "markdown",
   "metadata": {},
   "source": [
    "### "
   ]
  },
  {
   "cell_type": "code",
   "execution_count": 9,
   "metadata": {},
   "outputs": [
    {
     "name": "stdout",
     "output_type": "stream",
     "text": [
      "{'Name': 'Sandra', 'Age': 21, 'Place': 'Ernakulam'}\n",
      "{'Name': 'Nazrin', 'Age': 21, 'Place': 'Kottayam'}\n"
     ]
    }
   ],
   "source": [
    "var=cols.find({\"Age\":21},{\"_id\":0})\n",
    "for i in var:\n",
    "    print(i)"
   ]
  },
  {
   "cell_type": "code",
   "execution_count": 10,
   "metadata": {},
   "outputs": [
    {
     "name": "stdout",
     "output_type": "stream",
     "text": [
      "{'Name': 'Sandra'}\n",
      "{'Name': 'Nazrin'}\n"
     ]
    }
   ],
   "source": [
    "vars=cols.find({\"Age\":21},{\"Name\":2,\"_id\":0})\n",
    "for i in vars:\n",
    "    print(i)"
   ]
  },
  {
   "cell_type": "code",
   "execution_count": 11,
   "metadata": {},
   "outputs": [
    {
     "name": "stdout",
     "output_type": "stream",
     "text": [
      "{'Name': 'Sandra', 'Place': 'Ernakulam'}\n"
     ]
    }
   ],
   "source": [
    "var1=cols.find({\"$and\":[{\"Age\":21},{\"Place\":\"Ernakulam\"}]},{\"Name\":1,\"_id\":0,\"Place\":1})\n",
    "for i in var1:\n",
    "    print(i)"
   ]
  },
  {
   "cell_type": "code",
   "execution_count": 12,
   "metadata": {},
   "outputs": [
    {
     "name": "stdout",
     "output_type": "stream",
     "text": [
      "{'Name': 'Sandra', 'Place': 'Ernakulam'}\n",
      "{'Name': 'Nazrin', 'Place': 'Kottayam'}\n"
     ]
    }
   ],
   "source": [
    "var1=cols.find({\"$or\":[{\"Age\":21},{\"Place\":\"Ernakulam\"}]},{\"Name\":1,\"_id\":0,\"Place\":1})\n",
    "for i in var1:\n",
    "    print(i)"
   ]
  },
  {
   "cell_type": "code",
   "execution_count": 13,
   "metadata": {},
   "outputs": [
    {
     "data": {
      "text/plain": [
       "UpdateResult({'n': 2, 'nModified': 2, 'ok': 1.0, 'updatedExisting': True}, acknowledged=True)"
      ]
     },
     "execution_count": 13,
     "metadata": {},
     "output_type": "execute_result"
    }
   ],
   "source": [
    "cond = {\"Age\":21}\n",
    "newvalue = {\"$set\":{\"Place\":\"Calicut\"}}\n",
    "cols.update_many(cond,newvalue)"
   ]
  },
  {
   "cell_type": "code",
   "execution_count": 14,
   "metadata": {},
   "outputs": [
    {
     "data": {
      "text/plain": [
       "UpdateResult({'n': 1, 'nModified': 1, 'ok': 1.0, 'updatedExisting': True}, acknowledged=True)"
      ]
     },
     "execution_count": 14,
     "metadata": {},
     "output_type": "execute_result"
    }
   ],
   "source": [
    "conds={\"Age\":23}\n",
    "newvalue={\"$set\":{\"Place\":\"Ernakulam\"}}\n",
    "cols.update_many(conds,newvalue)"
   ]
  },
  {
   "cell_type": "code",
   "execution_count": 15,
   "metadata": {},
   "outputs": [
    {
     "data": {
      "text/plain": [
       "InsertManyResult([ObjectId('67eba05975055e79d7d1e374')], acknowledged=True)"
      ]
     },
     "execution_count": 15,
     "metadata": {},
     "output_type": "execute_result"
    }
   ],
   "source": [
    "values =[{\"Name\":\"Shivarama\",\"Age\":48,\"Place\":\"Kanyakumari\"}]\n",
    "cols.insert_many(values)\n"
   ]
  },
  {
   "cell_type": "code",
   "execution_count": 16,
   "metadata": {},
   "outputs": [
    {
     "data": {
      "text/plain": [
       "DeleteResult({'n': 1, 'ok': 1.0}, acknowledged=True)"
      ]
     },
     "execution_count": 16,
     "metadata": {},
     "output_type": "execute_result"
    }
   ],
   "source": [
    "cols.delete_many({\"Age\":23})"
   ]
  },
  {
   "cell_type": "code",
   "execution_count": 17,
   "metadata": {},
   "outputs": [
    {
     "name": "stdout",
     "output_type": "stream",
     "text": [
      "{'Name': 'Shivarama', 'Age': 48, 'Place': 'Kanyakumari'}\n"
     ]
    }
   ],
   "source": [
    "var=cols.find({\"Age\":{\"$gt\":30}},{\"_id\":0})\n",
    "for i in var:\n",
    "    print(i)"
   ]
  },
  {
   "cell_type": "code",
   "execution_count": 18,
   "metadata": {},
   "outputs": [
    {
     "name": "stdout",
     "output_type": "stream",
     "text": [
      "{'Name': 'Sandra', 'Age': 21, 'Place': 'Calicut'}\n",
      "{'Name': 'Nazrin', 'Age': 21, 'Place': 'Calicut'}\n"
     ]
    }
   ],
   "source": [
    "var=cols.find({\"Age\":{\"$lt\":30}},{\"_id\":0}) #lt for lesser than gt for greater than\n",
    "for i in var:\n",
    "    print(i)"
   ]
  },
  {
   "cell_type": "code",
   "execution_count": 19,
   "metadata": {},
   "outputs": [
    {
     "name": "stdout",
     "output_type": "stream",
     "text": [
      "{'Name': 'Sandra', 'Age': 21, 'Place': 'Calicut'}\n",
      "{'Name': 'Shivarama', 'Age': 48, 'Place': 'Kanyakumari'}\n"
     ]
    }
   ],
   "source": [
    "var=cols.find({\"Name\":{\"$regex\":\"^S\"}},{\"_id\":0})\n",
    "for i in var:\n",
    "    print(i)"
   ]
  },
  {
   "cell_type": "code",
   "execution_count": 20,
   "metadata": {},
   "outputs": [
    {
     "name": "stdout",
     "output_type": "stream",
     "text": [
      "{'Name': 'Sandra', 'Age': 21, 'Place': 'Calicut'}\n",
      "{'Name': 'Shivarama', 'Age': 48, 'Place': 'Kanyakumari'}\n"
     ]
    }
   ],
   "source": [
    "var=cols.find({\"Name\":{\"$regex\":\"a$\"}},{\"_id\":0})\n",
    "for i in var:\n",
    "    print(i)"
   ]
  }
 ],
 "metadata": {
  "kernelspec": {
   "display_name": "Python 3",
   "language": "python",
   "name": "python3"
  },
  "language_info": {
   "codemirror_mode": {
    "name": "ipython",
    "version": 3
   },
   "file_extension": ".py",
   "mimetype": "text/x-python",
   "name": "python",
   "nbconvert_exporter": "python",
   "pygments_lexer": "ipython3",
   "version": "3.12.2"
  }
 },
 "nbformat": 4,
 "nbformat_minor": 2
}
