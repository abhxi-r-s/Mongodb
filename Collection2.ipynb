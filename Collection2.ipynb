{
 "cells": [
  {
   "cell_type": "markdown",
   "metadata": {},
   "source": [
    "# create Database & Collection and insert values to the Collection"
   ]
  },
  {
   "cell_type": "markdown",
   "metadata": {},
   "source": [
    "### Connecting Mongodb"
   ]
  },
  {
   "cell_type": "code",
   "execution_count": 39,
   "metadata": {},
   "outputs": [],
   "source": [
    "import pymongo\n",
    "\n",
    "conn = pymongo.MongoClient(\"mongodb://localhost:27017/\")\n",
    "db = conn[\"mydatabase\"]\n",
    "cols = db[\"Collection2\"]"
   ]
  },
  {
   "cell_type": "markdown",
   "metadata": {},
   "source": [
    "### Inserting values"
   ]
  },
  {
   "cell_type": "code",
   "execution_count": 40,
   "metadata": {},
   "outputs": [],
   "source": [
    "values = [\n",
    "  {\"firstname\": \"Ethan\", \"lastname\": \"Johnson\", \"Age\": 26, \"course\": \"mca\", \"grade\": \"A\", \"mark\": 90, \"dept\": \"CS\", \"place\": \"Los Angeles\", \"gender\": \"Male\"},\n",
    "  {\"firstname\": \"Ava\", \"lastname\": \"Martinez\", \"Age\": 24, \"course\": \"bba\", \"grade\": \"B\", \"mark\": 78, \"dept\": \"Business\", \"place\": \"Chicago\", \"gender\": \"Female\"},\n",
    "  {\"firstname\": \"Mason\", \"lastname\": \"Wilson\", \"Age\": 28, \"course\": \"btech\", \"grade\": \"A\", \"mark\": 85, \"dept\": \"Mechanical\", \"place\": \"Houston\", \"gender\": \"Male\"},\n",
    "  {\"firstname\": \"Isabella\", \"lastname\": \"Taylor\", \"Age\": 23, \"course\": \"bsc\", \"grade\": \"C\", \"mark\": 68, \"dept\": \"Physics\", \"place\": \"Boston\", \"gender\": \"Female\"},\n",
    "  {\"firstname\": \"James\", \"lastname\": \"Harris\", \"Age\": 31, \"course\": \"mba\", \"grade\": \"A\", \"mark\": 92, \"dept\": \"Finance\", \"place\": \"Miami\", \"gender\": \"Male\"},\n",
    "  {\"firstname\": \"Emma\", \"lastname\": \"Watson\", \"Age\": 25, \"course\": \"mba\", \"grade\": \"B\", \"mark\": 76, \"dept\": \"Management\", \"place\": \"New York\", \"gender\": \"Female\"},\n",
    "  {\"firstname\": \"Liam\", \"lastname\": \"Anderson\", \"Age\": 30, \"course\": \"btech\", \"grade\": \"A\", \"mark\": 91, \"dept\": \"Mechanical\", \"place\": \"San Francisco\", \"gender\": \"Male\"},\n",
    "  {\"firstname\": \"Olivia\", \"lastname\": \"Brown\", \"Age\": 22, \"course\": \"bsc\", \"grade\": \"C\", \"mark\": 65, \"dept\": \"Biology\", \"place\": \"Toronto\", \"gender\": \"Female\"},\n",
    "  {\"firstname\": \"Noah\", \"lastname\": \"Smith\", \"Age\": 27, \"course\": \"mca\", \"grade\": \"A\", \"mark\": 89, \"dept\": \"CS\", \"place\": \"Sydney\", \"gender\": \"Male\"},\n",
    "  {\"firstname\": \"Sophia\", \"lastname\": \"Davis\", \"Age\": 29, \"course\": \"msc\", \"grade\": \"B\", \"mark\": 80, \"dept\": \"Mathematics\", \"place\": \"Berlin\", \"gender\": \"Female\"},\n",
    "  {\"firstname\": \"Daniel\", \"lastname\": \"Miller\", \"Age\": 26, \"course\": \"mca\", \"grade\": \"A\", \"mark\": 92, \"dept\": \"CS\", \"place\": \"Seattle\", \"gender\": \"Male\"},\n",
    "  {\"firstname\": \"Mia\", \"lastname\": \"Garcia\", \"Age\": 25, \"course\": \"mca\", \"grade\": \"B\", \"mark\": 81, \"dept\": \"CS\", \"place\": \"Austin\", \"gender\": \"Female\"},\n",
    "  {\"firstname\": \"Lucas\", \"lastname\": \"Clark\", \"Age\": 28, \"course\": \"mca\", \"grade\": \"A\", \"mark\": 95, \"dept\": \"IT\", \"place\": \"San Diego\", \"gender\": \"Male\"},\n",
    "  {\"firstname\": \"Harper\", \"lastname\": \"Rodriguez\", \"Age\": 27, \"course\": \"mca\", \"grade\": \"B\", \"mark\": 84, \"dept\": \"CS\", \"place\": \"Denver\", \"gender\": \"Female\"},\n",
    "  {\"firstname\": \"Elijah\", \"lastname\": \"Lewis\", \"Age\": 24, \"course\": \"mca\", \"grade\": \"A\", \"mark\": 88, \"dept\": \"CS\", \"place\": \"Las Vegas\", \"gender\": \"Male\"},\n",
    "  {\"firstname\": \"Benjamin\", \"lastname\": \"Walker\", \"Age\": 26, \"course\": \"btech\", \"grade\": \"A\", \"mark\": 90, \"dept\": \"Mechanical\", \"place\": \"Dallas\", \"gender\": \"Male\"},\n",
    "  {\"firstname\": \"Amelia\", \"lastname\": \"Hall\", \"Age\": 25, \"course\": \"btech\", \"grade\": \"B\", \"mark\": 83, \"dept\": \"Mechanical\", \"place\": \"Phoenix\", \"gender\": \"Female\"},\n",
    "  {\"firstname\": \"Henry\", \"lastname\": \"Allen\", \"Age\": 28, \"course\": \"btech\", \"grade\": \"A\", \"mark\": 89, \"dept\": \"Mechanical\", \"place\": \"Detroit\", \"gender\": \"Male\"},\n",
    "  {\"firstname\": \"Charlotte\", \"lastname\": \"Young\", \"Age\": 27, \"course\": \"btech\", \"grade\": \"A\", \"mark\": 94, \"dept\": \"Mechanical\", \"place\": \"San Antonio\", \"gender\": \"Female\"},\n",
    "  {\"firstname\": \"Alexander\", \"lastname\": \"King\", \"Age\": 29, \"course\": \"btech\", \"grade\": \"A\", \"mark\": 91, \"dept\": \"Mechanical\", \"place\": \"Philadelphia\", \"gender\": \"Male\"},\n",
    "  {\"firstname\": \"Evelyn\", \"lastname\": \"Scott\", \"Age\": 26, \"course\": \"btech\", \"grade\": \"B\", \"mark\": 86, \"dept\": \"Mechanical\", \"place\": \"Orlando\", \"gender\": \"Female\"},\n",
    "  {\"firstname\": \"William\", \"lastname\": \"Adams\", \"Age\": 30, \"course\": \"mca\", \"grade\": \"A\", \"mark\": 87, \"dept\": \"IT\", \"place\": \"Toronto\", \"gender\": \"Male\"},\n",
    "  {\"firstname\": \"Ella\", \"lastname\": \"Nelson\", \"Age\": 23, \"course\": \"mca\", \"grade\": \"B\", \"mark\": 80, \"dept\": \"CS\", \"place\": \"Atlanta\", \"gender\": \"Female\"},\n",
    "  {\"firstname\": \"Jack\", \"lastname\": \"Baker\", \"Age\": 27, \"course\": \"bsc\", \"grade\": \"A\", \"mark\": 85, \"dept\": \"Physics\", \"place\": \"New York\", \"gender\": \"Male\"}\n",
    "]\n",
    "\n",
    "\n"
   ]
  },
  {
   "cell_type": "code",
   "execution_count": 41,
   "metadata": {},
   "outputs": [
    {
     "data": {
      "text/plain": [
       "InsertManyResult([ObjectId('67e280a0f7bcf550631f4233'), ObjectId('67e280a0f7bcf550631f4234'), ObjectId('67e280a0f7bcf550631f4235'), ObjectId('67e280a0f7bcf550631f4236'), ObjectId('67e280a0f7bcf550631f4237'), ObjectId('67e280a0f7bcf550631f4238'), ObjectId('67e280a0f7bcf550631f4239'), ObjectId('67e280a0f7bcf550631f423a'), ObjectId('67e280a0f7bcf550631f423b'), ObjectId('67e280a0f7bcf550631f423c'), ObjectId('67e280a0f7bcf550631f423d'), ObjectId('67e280a0f7bcf550631f423e'), ObjectId('67e280a0f7bcf550631f423f'), ObjectId('67e280a0f7bcf550631f4240'), ObjectId('67e280a0f7bcf550631f4241'), ObjectId('67e280a0f7bcf550631f4242'), ObjectId('67e280a0f7bcf550631f4243'), ObjectId('67e280a0f7bcf550631f4244'), ObjectId('67e280a0f7bcf550631f4245'), ObjectId('67e280a0f7bcf550631f4246'), ObjectId('67e280a0f7bcf550631f4247'), ObjectId('67e280a0f7bcf550631f4248'), ObjectId('67e280a0f7bcf550631f4249'), ObjectId('67e280a0f7bcf550631f424a')], acknowledged=True)"
      ]
     },
     "execution_count": 41,
     "metadata": {},
     "output_type": "execute_result"
    }
   ],
   "source": [
    "cols.insert_many(values)"
   ]
  },
  {
   "cell_type": "markdown",
   "metadata": {},
   "source": [
    "### 1. Displaying name (both firstname & last name) and mark of all Female Students in MCA"
   ]
  },
  {
   "cell_type": "code",
   "execution_count": 42,
   "metadata": {},
   "outputs": [
    {
     "name": "stdout",
     "output_type": "stream",
     "text": [
      "{'firstname': 'Mia', 'lastname': 'Garcia', 'mark': 81, 'gender': 'Female'}\n",
      "{'firstname': 'Harper', 'lastname': 'Rodriguez', 'mark': 84, 'gender': 'Female'}\n",
      "{'firstname': 'Ella', 'lastname': 'Nelson', 'mark': 80, 'gender': 'Female'}\n",
      "{'firstname': 'Mia', 'lastname': 'Garcia', 'mark': 81, 'gender': 'Female'}\n",
      "{'firstname': 'Harper', 'lastname': 'Rodriguez', 'mark': 84, 'gender': 'Female'}\n",
      "{'firstname': 'Ella', 'lastname': 'Nelson', 'mark': 80, 'gender': 'Female'}\n"
     ]
    }
   ],
   "source": [
    "var=cols.find({\"$and\":[{\"course\":\"mca\"},{\"gender\":\"Female\"}]},{\"firstname\":1,\"lastname\":1,\"mark\":1,\"gender\":1,\"_id\":0})\n",
    "for i in var:\n",
    "    print(i)"
   ]
  },
  {
   "cell_type": "markdown",
   "metadata": {},
   "source": [
    "### 2. Displaying the Details of Students who Scored Highest mark in the course MCA"
   ]
  },
  {
   "cell_type": "code",
   "execution_count": 43,
   "metadata": {},
   "outputs": [
    {
     "name": "stdout",
     "output_type": "stream",
     "text": [
      "{'firstname': 'Lucas', 'lastname': 'Clark', 'course': 'mca', 'mark': 95}\n"
     ]
    }
   ],
   "source": [
    "var=cols.find({\"course\":\"mca\"},{\"_id\":0,\"firstname\":1,\"lastname\":1,\"course\":1,\"mark\":1}).sort({\"mark\":-1}).limit(1)\n",
    "for i in var:\n",
    "    print(i)"
   ]
  },
  {
   "cell_type": "markdown",
   "metadata": {},
   "source": [
    "### 3. Displaying all Male Students who got A grade "
   ]
  },
  {
   "cell_type": "code",
   "execution_count": 44,
   "metadata": {},
   "outputs": [
    {
     "name": "stdout",
     "output_type": "stream",
     "text": [
      "{'firstname': 'Ethan', 'lastname': 'Johnson', 'mark': 90, 'gender': 'Male'}\n",
      "{'firstname': 'Mason', 'lastname': 'Wilson', 'mark': 85, 'gender': 'Male'}\n",
      "{'firstname': 'James', 'lastname': 'Harris', 'mark': 92, 'gender': 'Male'}\n",
      "{'firstname': 'Liam', 'lastname': 'Anderson', 'mark': 91, 'gender': 'Male'}\n",
      "{'firstname': 'Noah', 'lastname': 'Smith', 'mark': 89, 'gender': 'Male'}\n",
      "{'firstname': 'Daniel', 'lastname': 'Miller', 'mark': 92, 'gender': 'Male'}\n",
      "{'firstname': 'Lucas', 'lastname': 'Clark', 'mark': 95, 'gender': 'Male'}\n",
      "{'firstname': 'Elijah', 'lastname': 'Lewis', 'mark': 88, 'gender': 'Male'}\n",
      "{'firstname': 'Benjamin', 'lastname': 'Walker', 'mark': 90, 'gender': 'Male'}\n",
      "{'firstname': 'Henry', 'lastname': 'Allen', 'mark': 89, 'gender': 'Male'}\n",
      "{'firstname': 'Alexander', 'lastname': 'King', 'mark': 91, 'gender': 'Male'}\n",
      "{'firstname': 'William', 'lastname': 'Adams', 'mark': 87, 'gender': 'Male'}\n",
      "{'firstname': 'Jack', 'lastname': 'Baker', 'mark': 85, 'gender': 'Male'}\n",
      "{'firstname': 'Ethan', 'lastname': 'Johnson', 'mark': 90, 'gender': 'Male'}\n",
      "{'firstname': 'Mason', 'lastname': 'Wilson', 'mark': 85, 'gender': 'Male'}\n",
      "{'firstname': 'James', 'lastname': 'Harris', 'mark': 92, 'gender': 'Male'}\n",
      "{'firstname': 'Liam', 'lastname': 'Anderson', 'mark': 91, 'gender': 'Male'}\n",
      "{'firstname': 'Noah', 'lastname': 'Smith', 'mark': 89, 'gender': 'Male'}\n",
      "{'firstname': 'Daniel', 'lastname': 'Miller', 'mark': 92, 'gender': 'Male'}\n",
      "{'firstname': 'Lucas', 'lastname': 'Clark', 'mark': 95, 'gender': 'Male'}\n",
      "{'firstname': 'Elijah', 'lastname': 'Lewis', 'mark': 88, 'gender': 'Male'}\n",
      "{'firstname': 'Benjamin', 'lastname': 'Walker', 'mark': 90, 'gender': 'Male'}\n",
      "{'firstname': 'Henry', 'lastname': 'Allen', 'mark': 89, 'gender': 'Male'}\n",
      "{'firstname': 'Alexander', 'lastname': 'King', 'mark': 91, 'gender': 'Male'}\n",
      "{'firstname': 'William', 'lastname': 'Adams', 'mark': 87, 'gender': 'Male'}\n",
      "{'firstname': 'Jack', 'lastname': 'Baker', 'mark': 85, 'gender': 'Male'}\n"
     ]
    }
   ],
   "source": [
    "var=cols.find({\"$and\":[{\"gender\":\"Male\"},{\"grade\":\"A\"}]},{\"_id\":0,\"firstname\":1,\"lastname\":1,\"mark\":1,\"gender\":1})\n",
    "for i in var:\n",
    "    print(i)"
   ]
  },
  {
   "cell_type": "markdown",
   "metadata": {},
   "source": [
    "### 4. Displaying Top 5 Students in Mechanical department"
   ]
  },
  {
   "cell_type": "code",
   "execution_count": 45,
   "metadata": {},
   "outputs": [
    {
     "name": "stdout",
     "output_type": "stream",
     "text": [
      "{'firstname': 'Charlotte', 'lastname': 'Young', 'mark': 94}\n",
      "{'firstname': 'Charlotte', 'lastname': 'Young', 'mark': 94}\n",
      "{'firstname': 'Liam', 'lastname': 'Anderson', 'mark': 91}\n",
      "{'firstname': 'Liam', 'lastname': 'Anderson', 'mark': 91}\n",
      "{'firstname': 'Alexander', 'lastname': 'King', 'mark': 91}\n"
     ]
    }
   ],
   "source": [
    "var = cols.find({\"dept\":\"Mechanical\"},{\"_id\":0,\"firstname\":1,\"lastname\":1,\"mark\":1}).sort({\"mark\":-1}).limit(5)\n",
    "for i in var:\n",
    "    print(i)"
   ]
  },
  {
   "cell_type": "markdown",
   "metadata": {},
   "source": [
    "### 5. Displaying Female Students with mark more than 90"
   ]
  },
  {
   "cell_type": "code",
   "execution_count": 46,
   "metadata": {},
   "outputs": [
    {
     "name": "stdout",
     "output_type": "stream",
     "text": [
      "{'firstname': 'Charlotte', 'lastname': 'Young', 'mark': 94, 'gender': 'Female'}\n",
      "{'firstname': 'Charlotte', 'lastname': 'Young', 'mark': 94, 'gender': 'Female'}\n"
     ]
    }
   ],
   "source": [
    "var=cols.find({\"$and\":[{\"gender\":\"Female\"},{\"mark\":{\"$gt\":90}}]},{\"_id\":0,\"firstname\":1,\"lastname\":1,\"mark\":1,\"gender\":1})\n",
    "for i in var:\n",
    "    print(i)"
   ]
  },
  {
   "cell_type": "markdown",
   "metadata": {},
   "source": [
    "### 6. Displaying the Students with marks between 80 and 90"
   ]
  },
  {
   "cell_type": "code",
   "execution_count": 47,
   "metadata": {},
   "outputs": [
    {
     "name": "stdout",
     "output_type": "stream",
     "text": [
      "{'firstname': 'Mason', 'mark': 85}\n",
      "{'firstname': 'Noah', 'mark': 89}\n",
      "{'firstname': 'Mia', 'mark': 81}\n",
      "{'firstname': 'Harper', 'mark': 84}\n",
      "{'firstname': 'Elijah', 'mark': 88}\n",
      "{'firstname': 'Amelia', 'mark': 83}\n",
      "{'firstname': 'Henry', 'mark': 89}\n",
      "{'firstname': 'Evelyn', 'mark': 86}\n",
      "{'firstname': 'William', 'mark': 87}\n",
      "{'firstname': 'Jack', 'mark': 85}\n",
      "{'firstname': 'Mason', 'mark': 85}\n",
      "{'firstname': 'Noah', 'mark': 89}\n",
      "{'firstname': 'Mia', 'mark': 81}\n",
      "{'firstname': 'Harper', 'mark': 84}\n",
      "{'firstname': 'Elijah', 'mark': 88}\n",
      "{'firstname': 'Amelia', 'mark': 83}\n",
      "{'firstname': 'Henry', 'mark': 89}\n",
      "{'firstname': 'Evelyn', 'mark': 86}\n",
      "{'firstname': 'William', 'mark': 87}\n",
      "{'firstname': 'Jack', 'mark': 85}\n"
     ]
    }
   ],
   "source": [
    "var=cols.find({\"mark\": {\"$gt\":80,\"$lt\":90}},{\"_id\":0,\"firstname\":1,\"mark\":1})\n",
    "for i in var:\n",
    "    print(i)"
   ]
  },
  {
   "cell_type": "markdown",
   "metadata": {},
   "source": [
    "### 7. Displaying Students with name Starting with A"
   ]
  },
  {
   "cell_type": "code",
   "execution_count": 48,
   "metadata": {},
   "outputs": [
    {
     "name": "stdout",
     "output_type": "stream",
     "text": [
      "{'firstname': 'Ava', 'lastname': 'Martinez', 'Age': 24, 'course': 'bba', 'grade': 'B', 'mark': 78, 'dept': 'Business', 'place': 'Chicago', 'gender': 'Female'}\n",
      "{'firstname': 'Amelia', 'lastname': 'Hall', 'Age': 25, 'course': 'btech', 'grade': 'B', 'mark': 83, 'dept': 'Mechanical', 'place': 'Phoenix', 'gender': 'Female'}\n",
      "{'firstname': 'Alexander', 'lastname': 'King', 'Age': 29, 'course': 'btech', 'grade': 'A', 'mark': 91, 'dept': 'Mechanical', 'place': 'Philadelphia', 'gender': 'Male'}\n",
      "{'firstname': 'Ava', 'lastname': 'Martinez', 'Age': 24, 'course': 'bba', 'grade': 'B', 'mark': 78, 'dept': 'Business', 'place': 'Chicago', 'gender': 'Female'}\n",
      "{'firstname': 'Amelia', 'lastname': 'Hall', 'Age': 25, 'course': 'btech', 'grade': 'B', 'mark': 83, 'dept': 'Mechanical', 'place': 'Phoenix', 'gender': 'Female'}\n",
      "{'firstname': 'Alexander', 'lastname': 'King', 'Age': 29, 'course': 'btech', 'grade': 'A', 'mark': 91, 'dept': 'Mechanical', 'place': 'Philadelphia', 'gender': 'Male'}\n"
     ]
    }
   ],
   "source": [
    "var=cols.find({\"firstname\":{\"$regex\":\"^A\"}},{\"_id\":0,})\n",
    "for i in var:\n",
    "    print(i)"
   ]
  },
  {
   "cell_type": "markdown",
   "metadata": {},
   "source": [
    "### 8. Displaying Students from New York"
   ]
  },
  {
   "cell_type": "code",
   "execution_count": 49,
   "metadata": {},
   "outputs": [
    {
     "name": "stdout",
     "output_type": "stream",
     "text": [
      "{'firstname': 'Emma', 'lastname': 'Watson', 'place': 'New York'}\n",
      "{'firstname': 'Jack', 'lastname': 'Baker', 'place': 'New York'}\n",
      "{'firstname': 'Emma', 'lastname': 'Watson', 'place': 'New York'}\n",
      "{'firstname': 'Jack', 'lastname': 'Baker', 'place': 'New York'}\n"
     ]
    }
   ],
   "source": [
    "var=cols.find({\"place\":\"New York\"},{\"_id\":0,\"firstname\":1,\"lastname\":1,\"place\":1})\n",
    "for i in var:\n",
    "    print(i)"
   ]
  },
  {
   "cell_type": "markdown",
   "metadata": {},
   "source": [
    "### 8. Displaying Students neither from Los Angeles nor from Toronto"
   ]
  },
  {
   "cell_type": "code",
   "execution_count": 50,
   "metadata": {},
   "outputs": [
    {
     "name": "stdout",
     "output_type": "stream",
     "text": [
      "{'firstname': 'Ava', 'lastname': 'Martinez', 'place': 'Chicago'}\n",
      "{'firstname': 'Mason', 'lastname': 'Wilson', 'place': 'Houston'}\n",
      "{'firstname': 'Isabella', 'lastname': 'Taylor', 'place': 'Boston'}\n",
      "{'firstname': 'James', 'lastname': 'Harris', 'place': 'Miami'}\n",
      "{'firstname': 'Emma', 'lastname': 'Watson', 'place': 'New York'}\n",
      "{'firstname': 'Liam', 'lastname': 'Anderson', 'place': 'San Francisco'}\n",
      "{'firstname': 'Noah', 'lastname': 'Smith', 'place': 'Sydney'}\n",
      "{'firstname': 'Sophia', 'lastname': 'Davis', 'place': 'Berlin'}\n",
      "{'firstname': 'Daniel', 'lastname': 'Miller', 'place': 'Seattle'}\n",
      "{'firstname': 'Mia', 'lastname': 'Garcia', 'place': 'Austin'}\n",
      "{'firstname': 'Lucas', 'lastname': 'Clark', 'place': 'San Diego'}\n",
      "{'firstname': 'Harper', 'lastname': 'Rodriguez', 'place': 'Denver'}\n",
      "{'firstname': 'Elijah', 'lastname': 'Lewis', 'place': 'Las Vegas'}\n",
      "{'firstname': 'Benjamin', 'lastname': 'Walker', 'place': 'Dallas'}\n",
      "{'firstname': 'Amelia', 'lastname': 'Hall', 'place': 'Phoenix'}\n",
      "{'firstname': 'Henry', 'lastname': 'Allen', 'place': 'Detroit'}\n",
      "{'firstname': 'Charlotte', 'lastname': 'Young', 'place': 'San Antonio'}\n",
      "{'firstname': 'Alexander', 'lastname': 'King', 'place': 'Philadelphia'}\n",
      "{'firstname': 'Evelyn', 'lastname': 'Scott', 'place': 'Orlando'}\n",
      "{'firstname': 'Ella', 'lastname': 'Nelson', 'place': 'Atlanta'}\n",
      "{'firstname': 'Jack', 'lastname': 'Baker', 'place': 'New York'}\n",
      "{'firstname': 'Ava', 'lastname': 'Martinez', 'place': 'Chicago'}\n",
      "{'firstname': 'Mason', 'lastname': 'Wilson', 'place': 'Houston'}\n",
      "{'firstname': 'Isabella', 'lastname': 'Taylor', 'place': 'Boston'}\n",
      "{'firstname': 'James', 'lastname': 'Harris', 'place': 'Miami'}\n",
      "{'firstname': 'Emma', 'lastname': 'Watson', 'place': 'New York'}\n",
      "{'firstname': 'Liam', 'lastname': 'Anderson', 'place': 'San Francisco'}\n",
      "{'firstname': 'Noah', 'lastname': 'Smith', 'place': 'Sydney'}\n",
      "{'firstname': 'Sophia', 'lastname': 'Davis', 'place': 'Berlin'}\n",
      "{'firstname': 'Daniel', 'lastname': 'Miller', 'place': 'Seattle'}\n",
      "{'firstname': 'Mia', 'lastname': 'Garcia', 'place': 'Austin'}\n",
      "{'firstname': 'Lucas', 'lastname': 'Clark', 'place': 'San Diego'}\n",
      "{'firstname': 'Harper', 'lastname': 'Rodriguez', 'place': 'Denver'}\n",
      "{'firstname': 'Elijah', 'lastname': 'Lewis', 'place': 'Las Vegas'}\n",
      "{'firstname': 'Benjamin', 'lastname': 'Walker', 'place': 'Dallas'}\n",
      "{'firstname': 'Amelia', 'lastname': 'Hall', 'place': 'Phoenix'}\n",
      "{'firstname': 'Henry', 'lastname': 'Allen', 'place': 'Detroit'}\n",
      "{'firstname': 'Charlotte', 'lastname': 'Young', 'place': 'San Antonio'}\n",
      "{'firstname': 'Alexander', 'lastname': 'King', 'place': 'Philadelphia'}\n",
      "{'firstname': 'Evelyn', 'lastname': 'Scott', 'place': 'Orlando'}\n",
      "{'firstname': 'Ella', 'lastname': 'Nelson', 'place': 'Atlanta'}\n",
      "{'firstname': 'Jack', 'lastname': 'Baker', 'place': 'New York'}\n"
     ]
    }
   ],
   "source": [
    "var=cols.find({\"place\":{\"$nin\":[\"Los Angeles\",\"Toronto\"]}},{\"_id\":0,\"firstname\":1,\"lastname\":1,\"place\":1})\n",
    "for i in var:\n",
    "    print(i)"
   ]
  }
 ],
 "metadata": {
  "kernelspec": {
   "display_name": "Python 3",
   "language": "python",
   "name": "python3"
  },
  "language_info": {
   "codemirror_mode": {
    "name": "ipython",
    "version": 3
   },
   "file_extension": ".py",
   "mimetype": "text/x-python",
   "name": "python",
   "nbconvert_exporter": "python",
   "pygments_lexer": "ipython3",
   "version": "3.12.2"
  }
 },
 "nbformat": 4,
 "nbformat_minor": 2
}
