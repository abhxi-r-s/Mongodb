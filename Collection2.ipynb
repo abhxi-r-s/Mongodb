{
 "cells": [
  {
   "cell_type": "code",
   "execution_count": 1,
   "metadata": {},
   "outputs": [],
   "source": [
    "import pymongo\n",
    "\n",
    "conn = pymongo.MongoClient(\"mongodb://localhost:27017/\")\n",
    "db = conn[\"mydatabase\"]\n",
    "cols = db[\"Collection2\"]"
   ]
  },
  {
   "cell_type": "code",
   "execution_count": 4,
   "metadata": {},
   "outputs": [],
   "source": [
    "values = [\n",
    "  {\"firstname\": \"Ethan\", \"lastname\": \"Johnson\", \"Age\": 26, \"course\": \"mca\", \"grade\": \"A\", \"mark\": 90, \"dept\": \"CS\", \"place\": \"Los Angeles\", \"gender\": \"Male\"},\n",
    "  {\"firstname\": \"Ava\", \"lastname\": \"Martinez\", \"Age\": 24, \"course\": \"bba\", \"grade\": \"B\", \"mark\": 78, \"dept\": \"Business\", \"place\": \"Chicago\", \"gender\": \"Female\"},\n",
    "  {\"firstname\": \"Mason\", \"lastname\": \"Wilson\", \"Age\": 28, \"course\": \"btech\", \"grade\": \"A\", \"mark\": 85, \"dept\": \"Mechanical\", \"place\": \"Houston\", \"gender\": \"Male\"},\n",
    "  {\"firstname\": \"Isabella\", \"lastname\": \"Taylor\", \"Age\": 23, \"course\": \"bsc\", \"grade\": \"C\", \"mark\": 68, \"dept\": \"Physics\", \"place\": \"Boston\", \"gender\": \"Female\"},\n",
    "  {\"firstname\": \"James\", \"lastname\": \"Harris\", \"Age\": 31, \"course\": \"mba\", \"grade\": \"A\", \"mark\": 92, \"dept\": \"Finance\", \"place\": \"Miami\", \"gender\": \"Male\"},\n",
    "  {\"firstname\": \"Emma\", \"lastname\": \"Watson\", \"Age\": 25, \"course\": \"mba\", \"grade\": \"B\", \"mark\": 76, \"dept\": \"Management\", \"place\": \"New York\", \"gender\": \"Female\"},\n",
    "  {\"firstname\": \"Liam\", \"lastname\": \"Anderson\", \"Age\": 30, \"course\": \"btech\", \"grade\": \"A\", \"mark\": 91, \"dept\": \"IT\", \"place\": \"San Francisco\", \"gender\": \"Male\"},\n",
    "  {\"firstname\": \"Olivia\", \"lastname\": \"Brown\", \"Age\": 22, \"course\": \"bsc\", \"grade\": \"C\", \"mark\": 65, \"dept\": \"Biology\", \"place\": \"Toronto\", \"gender\": \"Female\"},\n",
    "  {\"firstname\": \"Noah\", \"lastname\": \"Smith\", \"Age\": 27, \"course\": \"mca\", \"grade\": \"A\", \"mark\": 89, \"dept\": \"CS\", \"place\": \"Sydney\", \"gender\": \"Male\"},\n",
    "  {\"firstname\": \"Sophia\", \"lastname\": \"Davis\", \"Age\": 29, \"course\": \"msc\", \"grade\": \"B\", \"mark\": 80, \"dept\": \"Mathematics\", \"place\": \"Berlin\", \"gender\": \"Female\"}\n",
    "]\n",
    "\n"
   ]
  },
  {
   "cell_type": "code",
   "execution_count": 5,
   "metadata": {},
   "outputs": [
    {
     "data": {
      "text/plain": [
       "InsertManyResult([ObjectId('67e2485cb02f8ee23c7d63d5'), ObjectId('67e2485cb02f8ee23c7d63d6'), ObjectId('67e2485cb02f8ee23c7d63d7'), ObjectId('67e2485cb02f8ee23c7d63d8'), ObjectId('67e2485cb02f8ee23c7d63d9'), ObjectId('67e2485cb02f8ee23c7d63da'), ObjectId('67e2485cb02f8ee23c7d63db'), ObjectId('67e2485cb02f8ee23c7d63dc'), ObjectId('67e2485cb02f8ee23c7d63dd'), ObjectId('67e2485cb02f8ee23c7d63de')], acknowledged=True)"
      ]
     },
     "execution_count": 5,
     "metadata": {},
     "output_type": "execute_result"
    }
   ],
   "source": [
    "cols.insert_many(values)"
   ]
  },
  {
   "cell_type": "code",
   "execution_count": 8,
   "metadata": {},
   "outputs": [
    {
     "name": "stdout",
     "output_type": "stream",
     "text": [
      "{'firstname': 'Emma', 'lastname': 'Watson', 'mark': 76}\n"
     ]
    }
   ],
   "source": [
    "var=cols.find({\"$and\":[{\"course\":\"mba\"},{\"gender\":\"Female\"}]},{\"firstname\":1,\"lastname\":1,\"mark\":1,\"_id\":0})\n",
    "for i in var:\n",
    "    print(i)"
   ]
  },
  {
   "cell_type": "code",
   "execution_count": 13,
   "metadata": {},
   "outputs": [
    {
     "name": "stdout",
     "output_type": "stream",
     "text": [
      "{'firstname': 'Ethan', 'lastname': 'Johnson', 'Age': 26, 'course': 'mca', 'grade': 'A', 'mark': 90, 'dept': 'CS', 'place': 'Los Angeles', 'gender': 'Male'}\n"
     ]
    }
   ],
   "source": [
    "var=cols.find({\"course\":\"mca\"},{\"_id\":0}).sort({\"mark\":-1}).limit(1)\n",
    "for i in var:\n",
    "    print(i)"
   ]
  },
  {
   "cell_type": "code",
   "execution_count": 14,
   "metadata": {},
   "outputs": [
    {
     "name": "stdout",
     "output_type": "stream",
     "text": [
      "{'firstname': 'Ethan', 'lastname': 'Johnson', 'Age': 26, 'course': 'mca', 'grade': 'A', 'mark': 90, 'dept': 'CS', 'place': 'Los Angeles', 'gender': 'Male'}\n",
      "{'firstname': 'Mason', 'lastname': 'Wilson', 'Age': 28, 'course': 'btech', 'grade': 'A', 'mark': 85, 'dept': 'Mechanical', 'place': 'Houston', 'gender': 'Male'}\n",
      "{'firstname': 'James', 'lastname': 'Harris', 'Age': 31, 'course': 'mba', 'grade': 'A', 'mark': 92, 'dept': 'Finance', 'place': 'Miami', 'gender': 'Male'}\n",
      "{'firstname': 'Liam', 'lastname': 'Anderson', 'Age': 30, 'course': 'btech', 'grade': 'A', 'mark': 91, 'dept': 'IT', 'place': 'San Francisco', 'gender': 'Male'}\n",
      "{'firstname': 'Noah', 'lastname': 'Smith', 'Age': 27, 'course': 'mca', 'grade': 'A', 'mark': 89, 'dept': 'CS', 'place': 'Sydney', 'gender': 'Male'}\n"
     ]
    }
   ],
   "source": [
    "var=cols.find({\"$and\":[{\"gender\":\"Male\"},{\"grade\":\"A\"}]},{\"_id\":0})\n",
    "for i in var:\n",
    "    print(i)"
   ]
  },
  {
   "cell_type": "code",
   "execution_count": 15,
   "metadata": {},
   "outputs": [
    {
     "name": "stdout",
     "output_type": "stream",
     "text": [
      "{'firstname': 'James', 'lastname': 'Harris', 'Age': 31, 'course': 'mba', 'grade': 'A', 'mark': 92, 'dept': 'Finance', 'place': 'Miami', 'gender': 'Male'}\n",
      "{'firstname': 'Liam', 'lastname': 'Anderson', 'Age': 30, 'course': 'btech', 'grade': 'A', 'mark': 91, 'dept': 'IT', 'place': 'San Francisco', 'gender': 'Male'}\n"
     ]
    }
   ],
   "source": [
    "var=cols.find({\"mark\":{\"$gt\":90}},{\"_id\":0})\n",
    "for i in var:\n",
    "    print(i)"
   ]
  },
  {
   "cell_type": "code",
   "execution_count": 18,
   "metadata": {},
   "outputs": [
    {
     "name": "stdout",
     "output_type": "stream",
     "text": [
      "{'firstname': 'James'}\n",
      "{'firstname': 'Emma'}\n"
     ]
    }
   ],
   "source": [
    "var = cols.find({\"course\":\"mba\"},{\"_id\":0,\"firstname\":1}).sort({\"mark\":-1}).limit(2)\n",
    "for i in var:\n",
    "    print(i)"
   ]
  }
 ],
 "metadata": {
  "kernelspec": {
   "display_name": "Python 3",
   "language": "python",
   "name": "python3"
  },
  "language_info": {
   "codemirror_mode": {
    "name": "ipython",
    "version": 3
   },
   "file_extension": ".py",
   "mimetype": "text/x-python",
   "name": "python",
   "nbconvert_exporter": "python",
   "pygments_lexer": "ipython3",
   "version": "3.12.2"
  }
 },
 "nbformat": 4,
 "nbformat_minor": 2
}
