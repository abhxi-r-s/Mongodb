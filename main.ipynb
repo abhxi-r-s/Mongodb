{
 "cells": [
  {
   "cell_type": "code",
   "execution_count": null,
   "metadata": {},
   "outputs": [],
   "source": [
    "import pymongo\n",
    "\n",
    "conn = pymongo.MongoClient(\"mongodb://localhost:27017/\")\n",
    "db = conn[\"mydatabase\"]\n",
    "col=db[\"student\"]\n"
   ]
  },
  {
   "cell_type": "code",
   "execution_count": 9,
   "metadata": {},
   "outputs": [],
   "source": [
    "var=col.find()"
   ]
  },
  {
   "cell_type": "code",
   "execution_count": 10,
   "metadata": {},
   "outputs": [
    {
     "name": "stdout",
     "output_type": "stream",
     "text": [
      "{'_id': ObjectId('67d931ef60b4a3efe6513b83'), 'Name ': 'Abhi'}\n",
      "{'_id': ObjectId('67d931ef60b4a3efe6513b84'), 'Name ': 'Shiv'}\n",
      "{'_id': ObjectId('67d931ef60b4a3efe6513b85'), 'Name ': 'Yadhu'}\n",
      "{'_id': ObjectId('67d931ef60b4a3efe6513b86'), 'Name ': 'Abhi'}\n"
     ]
    }
   ],
   "source": [
    "var = col.find({},{\"Name \":2})\n",
    "for i in var:\n",
    "    print(i)"
   ]
  },
  {
   "cell_type": "code",
   "execution_count": 11,
   "metadata": {},
   "outputs": [
    {
     "name": "stdout",
     "output_type": "stream",
     "text": [
      "{'Name ': 'Abhi'}\n",
      "{'Name ': 'Shiv'}\n",
      "{'Name ': 'Yadhu'}\n",
      "{'Name ': 'Abhi'}\n"
     ]
    }
   ],
   "source": [
    "var = col.find({},{\"Name \":2,\"_id\":0})\n",
    "for i in var:\n",
    "    print(i)"
   ]
  },
  {
   "cell_type": "code",
   "execution_count": 12,
   "metadata": {},
   "outputs": [
    {
     "name": "stdout",
     "output_type": "stream",
     "text": [
      "{'Name ': 'Abhi', 'Age': 20}\n",
      "{'Name ': 'Abhi', 'Age': 20}\n"
     ]
    }
   ],
   "source": [
    "var = col.find({\"Name \":\"Abhi\"},{\"Name \":1,\"Age\":20,\"_id\":0})\n",
    "for i in var:\n",
    "    print(i)"
   ]
  },
  {
   "cell_type": "code",
   "execution_count": 14,
   "metadata": {},
   "outputs": [
    {
     "name": "stdout",
     "output_type": "stream",
     "text": [
      "{'Name ': 'Abhi'}\n",
      "{'Name ': 'Shiv'}\n"
     ]
    }
   ],
   "source": [
    "var = col.find({},{\"Name \":1,\"_id\":0}).limit(2)\n",
    "for i in var:\n",
    "    print(i)"
   ]
  },
  {
   "cell_type": "code",
   "execution_count": 25,
   "metadata": {},
   "outputs": [
    {
     "name": "stdout",
     "output_type": "stream",
     "text": [
      "{'Name ': 'Yadhu'}\n",
      "{'Name ': 'Shiv'}\n",
      "{'Name ': 'Abhi'}\n",
      "{'Name ': 'Abhi'}\n"
     ]
    }
   ],
   "source": [
    "var = col.find({},{\"Name \":1,\"_id\":0}).sort({\"Name \":-1})\n",
    "for i in var:\n",
    "    print(i)"
   ]
  },
  {
   "cell_type": "code",
   "execution_count": 26,
   "metadata": {},
   "outputs": [
    {
     "name": "stdout",
     "output_type": "stream",
     "text": [
      "{'Name ': 'Abhi'}\n",
      "{'Name ': 'Abhi'}\n",
      "{'Name ': 'Shiv'}\n",
      "{'Name ': 'Yadhu'}\n"
     ]
    }
   ],
   "source": [
    "var = col.find({},{\"Name \":1,\"_id\":0}).sort({\"Name \":1})\n",
    "for i in var:\n",
    "    print(i)"
   ]
  }
 ],
 "metadata": {
  "kernelspec": {
   "display_name": "Python 3",
   "language": "python",
   "name": "python3"
  },
  "language_info": {
   "codemirror_mode": {
    "name": "ipython",
    "version": 3
   },
   "file_extension": ".py",
   "mimetype": "text/x-python",
   "name": "python",
   "nbconvert_exporter": "python",
   "pygments_lexer": "ipython3",
   "version": "3.12.2"
  }
 },
 "nbformat": 4,
 "nbformat_minor": 2
}
